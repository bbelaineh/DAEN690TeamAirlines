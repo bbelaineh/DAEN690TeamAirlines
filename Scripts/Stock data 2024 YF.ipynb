{
 "cells": [
  {
   "cell_type": "code",
   "execution_count": 26,
   "id": "6ca72448",
   "metadata": {},
   "outputs": [
    {
     "name": "stderr",
     "output_type": "stream",
     "text": [
      "[*********************100%***********************]  9 of 9 completed"
     ]
    },
    {
     "name": "stdout",
     "output_type": "stream",
     "text": [
      "✅ Fixed airline stock data saved to test6.csv\n"
     ]
    },
    {
     "name": "stderr",
     "output_type": "stream",
     "text": [
      "\n"
     ]
    }
   ],
   "source": [
    "import yfinance as yf\n",
    "import pandas as pd\n",
    "\n",
    "# Define the airline tickers and their mappings\n",
    "airline_mapping = {\n",
    "    \"ALK\": \"AS\",    # Alaska Airlines\n",
    "    \"ALGT\": \"G4\",   # Allegiant Air\n",
    "    \"AAL\": \"AA\",    # American Airlines\n",
    "    \"DAL\": \"DL\",    # Delta Air Lines\n",
    "    \"ULCC\": \"F9\",   # Frontier Airlines\n",
    "    \"JBLU\": \"B6\",   # JetBlue Airways\n",
    "    \"LUV\": \"WN\",    # Southwest Airlines\n",
    "    \"SAVEQ\": \"NK\",  # Spirit Airlines\n",
    "    \"UAL\": \"UA\"     # United Airlines\n",
    "}\n",
    "\n",
    "# Define date range\n",
    "start_date = \"2024-01-01\"\n",
    "end_date = \"2024-12-31\"\n",
    "\n",
    "# Fetch data for all tickers at once\n",
    "data = yf.download(list(airline_mapping.keys()), start=start_date, end=end_date, interval='1d')\n",
    "\n",
    "# Reset multi-index (ticker names are currently in column headers)\n",
    "data = data.stack(level=1).reset_index()\n",
    "\n",
    "# Rename columns to match the expected format\n",
    "data.rename(columns={'level_1': 'Ticker'}, inplace=True)\n",
    "\n",
    "# Map tickers to their airline codes\n",
    "data['Ticker'] = data['Ticker'].map(airline_mapping)\n",
    "\n",
    "# Keep only the required columns in correct order\n",
    "data = data[['Date', 'Ticker', 'Open', 'Close', 'Low', 'High', 'Volume']]\n",
    "\n",
    "# Save properly formatted CSV\n",
    "final_filename = \"test6.csv\"\n",
    "data.to_csv(final_filename, index=False)\n",
    "\n",
    "print(f\"✅ Fixed airline stock data saved to {final_filename}\")\n"
   ]
  },
  {
   "cell_type": "code",
   "execution_count": 29,
   "id": "d67c6b37",
   "metadata": {},
   "outputs": [
    {
     "name": "stderr",
     "output_type": "stream",
     "text": [
      "[*********************100%***********************]  9 of 9 completed"
     ]
    },
    {
     "name": "stdout",
     "output_type": "stream",
     "text": [
      "✅ Fixed airline stock data saved to test6.csv\n"
     ]
    },
    {
     "name": "stderr",
     "output_type": "stream",
     "text": [
      "\n"
     ]
    }
   ],
   "source": [
    "import yfinance as yf\n",
    "import pandas as pd\n",
    "\n",
    "# Define the airline tickers and their mappings\n",
    "airline_mapping = {\n",
    "    \"ALK\": \"AS\",    # Alaska Airlines\n",
    "    \"ALGT\": \"G4\",   # Allegiant Air\n",
    "    \"AAL\": \"AA\",    # American Airlines\n",
    "    \"DAL\": \"DL\",    # Delta Air Lines\n",
    "    \"ULCC\": \"F9\",   # Frontier Airlines\n",
    "    \"JBLU\": \"B6\",   # JetBlue Airways\n",
    "    \"LUV\": \"WN\",    # Southwest Airlines\n",
    "    \"SAVEQ\": \"NK\",  # Spirit Airlines\n",
    "    \"UAL\": \"UA\"     # United Airlines\n",
    "}\n",
    "\n",
    "# Define date range\n",
    "start_date = \"2024-01-01\"\n",
    "end_date = \"2024-12-31\"\n",
    "\n",
    "# Fetch data for all tickers at once\n",
    "data = yf.download(list(airline_mapping.keys()), start=start_date, end=end_date, interval='1d')\n",
    "\n",
    "# Convert multi-index to columns\n",
    "data = data.stack(level=1).reset_index()\n",
    "\n",
    "# Identify the actual column name for the ticker\n",
    "actual_ticker_column = data.columns[1]  # The second column (after \"Date\")\n",
    "\n",
    "# Rename dynamically to avoid KeyErrors\n",
    "data.rename(columns={actual_ticker_column: 'Stock Ticker'}, inplace=True)\n",
    "\n",
    "# Map Stock Ticker to Airline name\n",
    "data['Airline'] = data['Stock Ticker'].map(airline_mapping)\n",
    "\n",
    "# Keep only the required columns in correct order\n",
    "data = data[['Date', 'Stock Ticker', 'Airline', 'Open', 'Close', 'Low', 'High', 'Volume']]\n",
    "\n",
    "# Save properly formatted CSV\n",
    "final_filename = \"test6.csv\"\n",
    "data.to_csv(final_filename, index=False)\n",
    "\n",
    "print(f\"✅ Fixed airline stock data saved to {final_filename}\")\n"
   ]
  },
  {
   "cell_type": "code",
   "execution_count": 30,
   "id": "0dccfef6",
   "metadata": {},
   "outputs": [
    {
     "name": "stderr",
     "output_type": "stream",
     "text": [
      "[*********************100%***********************]  9 of 9 completed"
     ]
    },
    {
     "name": "stdout",
     "output_type": "stream",
     "text": [
      "✅ Fixed and grouped airline stock data saved to test7.csv\n"
     ]
    },
    {
     "name": "stderr",
     "output_type": "stream",
     "text": [
      "\n"
     ]
    }
   ],
   "source": [
    "import yfinance as yf\n",
    "import pandas as pd\n",
    "\n",
    "# Define the airline tickers and their mappings\n",
    "airline_mapping = {\n",
    "    \"ALK\": \"AS\",    # Alaska Airlines\n",
    "    \"ALGT\": \"G4\",   # Allegiant Air\n",
    "    \"AAL\": \"AA\",    # American Airlines\n",
    "    \"DAL\": \"DL\",    # Delta Air Lines\n",
    "    \"ULCC\": \"F9\",   # Frontier Airlines\n",
    "    \"JBLU\": \"B6\",   # JetBlue Airways\n",
    "    \"LUV\": \"WN\",    # Southwest Airlines\n",
    "    \"SAVEQ\": \"NK\",  # Spirit Airlines\n",
    "    \"UAL\": \"UA\"     # United Airlines\n",
    "}\n",
    "\n",
    "# Define date range\n",
    "start_date = \"2024-01-01\"\n",
    "end_date = \"2024-12-31\"\n",
    "\n",
    "# Fetch data for all tickers at once\n",
    "data = yf.download(list(airline_mapping.keys()), start=start_date, end=end_date, interval='1d')\n",
    "\n",
    "# Convert multi-index to columns\n",
    "data = data.stack(level=1).reset_index()\n",
    "\n",
    "# Identify the actual column name for the ticker\n",
    "actual_ticker_column = data.columns[1]  # The second column (after \"Date\")\n",
    "\n",
    "# Rename dynamically to avoid KeyErrors\n",
    "data.rename(columns={actual_ticker_column: 'Stock Ticker'}, inplace=True)\n",
    "\n",
    "# Map Stock Ticker to Airline name\n",
    "data['Airline'] = data['Stock Ticker'].map(airline_mapping)\n",
    "\n",
    "# Keep only the required columns in correct order\n",
    "data = data[['Date', 'Stock Ticker', 'Airline', 'Open', 'Close', 'Low', 'High', 'Volume']]\n",
    "\n",
    "# Group by Airline and Date for better organization\n",
    "data.sort_values(by=['Airline', 'Date'], inplace=True)\n",
    "\n",
    "# Save properly formatted CSV\n",
    "final_filename = \"test7.csv\"\n",
    "data.to_csv(final_filename, index=False)\n",
    "\n",
    "print(f\"✅ Fixed and grouped airline stock data saved to {final_filename}\")\n"
   ]
  }
 ],
 "metadata": {
  "kernelspec": {
   "display_name": "Python 3 (ipykernel)",
   "language": "python",
   "name": "python3"
  },
  "language_info": {
   "codemirror_mode": {
    "name": "ipython",
    "version": 3
   },
   "file_extension": ".py",
   "mimetype": "text/x-python",
   "name": "python",
   "nbconvert_exporter": "python",
   "pygments_lexer": "ipython3",
   "version": "3.11.5"
  }
 },
 "nbformat": 4,
 "nbformat_minor": 5
}
