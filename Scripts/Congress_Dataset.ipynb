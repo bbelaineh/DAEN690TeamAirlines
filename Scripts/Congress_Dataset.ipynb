{
 "cells": [
  {
   "cell_type": "code",
   "execution_count": 29,
   "id": "ac4e86eb-3dc5-4988-a29e-1c816ac81f85",
   "metadata": {},
   "outputs": [
    {
     "name": "stdout",
     "output_type": "stream",
     "text": [
      "  Stock                                              Stock  \\\n",
      "0   ALK                    ALK\\nALASKA AIR GROUP, INC.\\nST   \n",
      "1   ALK                    ALK\\nALASKA AIR GROUP, INC.\\nST   \n",
      "2   ALK  ALK\\nOF THE TRANSACTION, I SOLD THE STOCK. ALA...   \n",
      "3   ALK                    ALK\\nALASKA AIR GROUP, INC.\\nST   \n",
      "4   ALK                    ALK\\nALASKA AIR GROUP, INC.\\nST   \n",
      "\n",
      "                  Transaction                  Politician          Filed  \\\n",
      "0      Sale\\n$1,001 - $15,000  Earl Blumenauer\\nHouse / D  Jan. 04, 2024   \n",
      "1  Purchase\\n$1,001 - $15,000  Earl Blumenauer\\nHouse / D  Oct. 05, 2022   \n",
      "2      Sale\\n$1,001 - $15,000  Earl Blumenauer\\nHouse / D  Apr. 01, 2022   \n",
      "3  Purchase\\n$1,001 - $15,000  Earl Blumenauer\\nHouse / D  Apr. 01, 2022   \n",
      "4   Sale\\n$250,001 - $500,000  Victoria Spartz\\nHouse / R  Jun. 20, 2021   \n",
      "\n",
      "          Traded                                        Description  \n",
      "0  Dec. 13, 2023          PART OF MY SPOUSE'S RETIREMENT PORTFOLIO.  \n",
      "1  Sep. 30, 2022          PART OF MY SPOUSE'S RETIREMENT PORTFOLIO.  \n",
      "2  Mar. 14, 2022                                                  -  \n",
      "3  Feb. 24, 2022  DUE TO MISCOMMUNICATION WITH MY FINANCIAL ADVI...  \n",
      "4  May. 17, 2021                                                  -  \n"
     ]
    }
   ],
   "source": [
    "from selenium import webdriver\n",
    "from selenium.webdriver.chrome.service import Service\n",
    "from selenium.webdriver.chrome.options import Options\n",
    "from selenium.webdriver.common.by import By\n",
    "from selenium.webdriver.support.ui import WebDriverWait\n",
    "from selenium.webdriver.support import expected_conditions as EC\n",
    "import pandas as pd\n",
    "from webdriver_manager.chrome import ChromeDriverManager\n",
    "\n",
    "# Set up Selenium with headless Chrome\n",
    "options = Options()\n",
    "options.add_argument(\"--headless\")  \n",
    "options.add_argument(\"--disable-gpu\")\n",
    "options.add_argument(\"--no-sandbox\")\n",
    "\n",
    "# Set up WebDriver\n",
    "service = Service(ChromeDriverManager().install())\n",
    "driver = webdriver.Chrome(service=service, options=options)\n",
    "\n",
    "# Stocks to scrape\n",
    "stocks = [\"ALK\", \"ALGT\", \"AAL\", \"DAL\", \"JBLU\", \"LUV\", \"UAL\"]\n",
    "all_data = []\n",
    "\n",
    "for stock in stocks:\n",
    "    url = f\"https://www.quiverquant.com/congresstrading/stock/{stock}\"\n",
    "    driver.get(url)\n",
    "    \n",
    "    # Wait for table to load\n",
    "    wait = WebDriverWait(driver, 10)\n",
    "    wait.until(EC.presence_of_element_located((By.TAG_NAME, \"table\")))\n",
    "\n",
    "    # Extract data from table\n",
    "    table = driver.find_element(By.TAG_NAME, \"table\")\n",
    "    rows = table.find_elements(By.TAG_NAME, \"tr\")\n",
    "    \n",
    "    headers = [header.text for header in rows[0].find_elements(By.TAG_NAME, \"th\")]\n",
    "    for row in rows[1:]:  # Skip header row\n",
    "        cols = row.find_elements(By.TAG_NAME, \"td\")\n",
    "        all_data.append([stock] + [col.text for col in cols])  # Add stock symbol to each row\n",
    "\n",
    "# Convert to DataFrame\n",
    "df = pd.DataFrame(all_data, columns=[\"Stock\"] + headers)\n",
    "\n",
    "# Save to CSV\n",
    "csv_filename = \"/Users/saketh/Downloads/Daen Datasets/congress_trading_data.csv\"\n",
    "df.to_csv(csv_filename, index=False)\n",
    "\n",
    "# Print the first few rows\n",
    "print(df.head())\n",
    "\n",
    "# Close the driver\n",
    "driver.quit()"
   ]
  },
  {
   "cell_type": "code",
   "execution_count": null,
   "id": "cb95ded5-09dc-493c-9b79-03c2b721ab7d",
   "metadata": {},
   "outputs": [],
   "source": []
  }
 ],
 "metadata": {
  "kernelspec": {
   "display_name": "Python [conda env:.conda]",
   "language": "python",
   "name": "conda-env-.conda-py"
  },
  "language_info": {
   "codemirror_mode": {
    "name": "ipython",
    "version": 3
   },
   "file_extension": ".py",
   "mimetype": "text/x-python",
   "name": "python",
   "nbconvert_exporter": "python",
   "pygments_lexer": "ipython3",
   "version": "3.11.10"
  }
 },
 "nbformat": 4,
 "nbformat_minor": 5
}
